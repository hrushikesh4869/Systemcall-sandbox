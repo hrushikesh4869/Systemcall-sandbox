{
 "cells": [
  {
   "cell_type": "code",
   "execution_count": 2,
   "id": "879cf8b6",
   "metadata": {},
   "outputs": [],
   "source": [
    "import angr\n",
    "import monkeyhex\n",
    "import graphviz"
   ]
  },
  {
   "cell_type": "code",
   "execution_count": 31,
   "id": "1440531a",
   "metadata": {},
   "outputs": [
    {
     "name": "stderr",
     "output_type": "stream",
     "text": [
      "ERROR   | 2022-11-21 20:24:07,446 | angr.analyses.propagator.engine_vex.SimEnginePropagatorVEX | Unsupported statement type Dirty.\n",
      "ERROR   | 2022-11-21 20:24:07,454 | angr.analyses.propagator.engine_vex.SimEnginePropagatorVEX | Unsupported statement type Dirty.\n",
      "ERROR   | 2022-11-21 20:24:07,455 | angr.analyses.propagator.engine_vex.SimEnginePropagatorVEX | Unsupported statement type Dirty.\n",
      "ERROR   | 2022-11-21 20:24:07,456 | angr.analyses.propagator.engine_vex.SimEnginePropagatorVEX | Unsupported statement type Dirty.\n",
      "ERROR   | 2022-11-21 20:24:14,602 | angr.analyses.cfg.indirect_jump_resolvers.jumptable.JumpTableProcessor | Unsupported Unop Iop_GetMSBs8x16.\n",
      "ERROR   | 2022-11-21 20:24:14,606 | angr.analyses.cfg.indirect_jump_resolvers.jumptable.JumpTableProcessor | Unsupported Binop Iop_Min8Ux16.\n",
      "ERROR   | 2022-11-21 20:24:14,606 | angr.analyses.cfg.indirect_jump_resolvers.jumptable.JumpTableProcessor | Unsupported Binop Iop_Min8Ux16.\n",
      "ERROR   | 2022-11-21 20:24:14,607 | angr.analyses.cfg.indirect_jump_resolvers.jumptable.JumpTableProcessor | Unsupported Binop Iop_Min8Ux16.\n",
      "ERROR   | 2022-11-21 20:24:14,607 | angr.analyses.cfg.indirect_jump_resolvers.jumptable.JumpTableProcessor | Unsupported Unop Iop_GetMSBs8x16.\n",
      "ERROR   | 2022-11-21 20:24:14,608 | angr.analyses.cfg.indirect_jump_resolvers.jumptable.JumpTableProcessor | Unsupported Unop Iop_GetMSBs8x16.\n",
      "ERROR   | 2022-11-21 20:24:14,608 | angr.analyses.cfg.indirect_jump_resolvers.jumptable.JumpTableProcessor | Unsupported Binop Iop_Min8Ux16.\n",
      "ERROR   | 2022-11-21 20:24:14,609 | angr.analyses.cfg.indirect_jump_resolvers.jumptable.JumpTableProcessor | Unsupported Binop Iop_Min8Ux16.\n",
      "ERROR   | 2022-11-21 20:24:14,609 | angr.analyses.cfg.indirect_jump_resolvers.jumptable.JumpTableProcessor | Unsupported Binop Iop_Min8Ux16.\n",
      "ERROR   | 2022-11-21 20:24:14,610 | angr.analyses.cfg.indirect_jump_resolvers.jumptable.JumpTableProcessor | Unsupported Unop Iop_GetMSBs8x16.\n",
      "ERROR   | 2022-11-21 20:24:14,610 | angr.analyses.cfg.indirect_jump_resolvers.jumptable.JumpTableProcessor | Unsupported Unop Iop_GetMSBs8x16.\n",
      "ERROR   | 2022-11-21 20:24:14,614 | angr.analyses.cfg.indirect_jump_resolvers.jumptable.JumpTableProcessor | Unsupported Unop Iop_GetMSBs8x16.\n",
      "ERROR   | 2022-11-21 20:24:14,615 | angr.analyses.cfg.indirect_jump_resolvers.jumptable.JumpTableProcessor | Unsupported Binop Iop_Min8Ux16.\n",
      "ERROR   | 2022-11-21 20:24:14,616 | angr.analyses.cfg.indirect_jump_resolvers.jumptable.JumpTableProcessor | Unsupported Binop Iop_Min8Ux16.\n",
      "ERROR   | 2022-11-21 20:24:14,616 | angr.analyses.cfg.indirect_jump_resolvers.jumptable.JumpTableProcessor | Unsupported Binop Iop_Min8Ux16.\n",
      "ERROR   | 2022-11-21 20:24:14,617 | angr.analyses.cfg.indirect_jump_resolvers.jumptable.JumpTableProcessor | Unsupported Unop Iop_GetMSBs8x16.\n",
      "ERROR   | 2022-11-21 20:24:14,645 | angr.analyses.cfg.indirect_jump_resolvers.jumptable.JumpTableProcessor | Unsupported Unop Iop_GetMSBs8x16.\n",
      "ERROR   | 2022-11-21 20:24:14,649 | angr.analyses.cfg.indirect_jump_resolvers.jumptable.JumpTableProcessor | Unsupported Binop Iop_Min8Ux16.\n",
      "ERROR   | 2022-11-21 20:24:14,649 | angr.analyses.cfg.indirect_jump_resolvers.jumptable.JumpTableProcessor | Unsupported Binop Iop_Min8Ux16.\n",
      "ERROR   | 2022-11-21 20:24:14,650 | angr.analyses.cfg.indirect_jump_resolvers.jumptable.JumpTableProcessor | Unsupported Binop Iop_Min8Ux16.\n",
      "ERROR   | 2022-11-21 20:24:14,650 | angr.analyses.cfg.indirect_jump_resolvers.jumptable.JumpTableProcessor | Unsupported Unop Iop_GetMSBs8x16.\n",
      "ERROR   | 2022-11-21 20:24:14,651 | angr.analyses.cfg.indirect_jump_resolvers.jumptable.JumpTableProcessor | Unsupported Unop Iop_GetMSBs8x16.\n",
      "ERROR   | 2022-11-21 20:24:14,652 | angr.analyses.cfg.indirect_jump_resolvers.jumptable.JumpTableProcessor | Unsupported Binop Iop_Min8Ux16.\n",
      "ERROR   | 2022-11-21 20:24:14,652 | angr.analyses.cfg.indirect_jump_resolvers.jumptable.JumpTableProcessor | Unsupported Binop Iop_Min8Ux16.\n",
      "ERROR   | 2022-11-21 20:24:14,653 | angr.analyses.cfg.indirect_jump_resolvers.jumptable.JumpTableProcessor | Unsupported Binop Iop_Min8Ux16.\n",
      "ERROR   | 2022-11-21 20:24:14,653 | angr.analyses.cfg.indirect_jump_resolvers.jumptable.JumpTableProcessor | Unsupported Unop Iop_GetMSBs8x16.\n",
      "ERROR   | 2022-11-21 20:24:14,654 | angr.analyses.cfg.indirect_jump_resolvers.jumptable.JumpTableProcessor | Unsupported Unop Iop_GetMSBs8x16.\n",
      "ERROR   | 2022-11-21 20:24:14,657 | angr.analyses.cfg.indirect_jump_resolvers.jumptable.JumpTableProcessor | Unsupported Unop Iop_GetMSBs8x16.\n",
      "ERROR   | 2022-11-21 20:24:14,658 | angr.analyses.cfg.indirect_jump_resolvers.jumptable.JumpTableProcessor | Unsupported Binop Iop_Min8Ux16.\n",
      "ERROR   | 2022-11-21 20:24:14,659 | angr.analyses.cfg.indirect_jump_resolvers.jumptable.JumpTableProcessor | Unsupported Binop Iop_Min8Ux16.\n",
      "ERROR   | 2022-11-21 20:24:14,659 | angr.analyses.cfg.indirect_jump_resolvers.jumptable.JumpTableProcessor | Unsupported Binop Iop_Min8Ux16.\n",
      "ERROR   | 2022-11-21 20:24:14,659 | angr.analyses.cfg.indirect_jump_resolvers.jumptable.JumpTableProcessor | Unsupported Unop Iop_GetMSBs8x16.\n",
      "ERROR   | 2022-11-21 20:24:15,739 | angr.analyses.cfg.indirect_jump_resolvers.jumptable.JumpTableProcessor | Unsupported Unop Iop_GetMSBs8x16.\n",
      "ERROR   | 2022-11-21 20:24:15,740 | angr.analyses.cfg.indirect_jump_resolvers.jumptable.JumpTableProcessor | Unsupported Unop Iop_GetMSBs8x16.\n",
      "ERROR   | 2022-11-21 20:24:15,740 | angr.analyses.cfg.indirect_jump_resolvers.jumptable.JumpTableProcessor | Unsupported Unop Iop_GetMSBs8x16.\n",
      "ERROR   | 2022-11-21 20:24:15,741 | angr.analyses.cfg.indirect_jump_resolvers.jumptable.JumpTableProcessor | Unsupported Unop Iop_GetMSBs8x16.\n",
      "ERROR   | 2022-11-21 20:24:15,742 | angr.analyses.cfg.indirect_jump_resolvers.jumptable.JumpTableProcessor | Unsupported Unop Iop_GetMSBs8x16.\n",
      "ERROR   | 2022-11-21 20:24:15,742 | angr.analyses.cfg.indirect_jump_resolvers.jumptable.JumpTableProcessor | Unsupported Unop Iop_GetMSBs8x16.\n",
      "ERROR   | 2022-11-21 20:24:15,743 | angr.analyses.cfg.indirect_jump_resolvers.jumptable.JumpTableProcessor | Unsupported Unop Iop_GetMSBs8x16.\n",
      "ERROR   | 2022-11-21 20:24:15,748 | angr.analyses.cfg.indirect_jump_resolvers.jumptable.JumpTableProcessor | Unsupported Unop Iop_GetMSBs8x16.\n",
      "ERROR   | 2022-11-21 20:24:15,749 | angr.analyses.cfg.indirect_jump_resolvers.jumptable.JumpTableProcessor | Unsupported Unop Iop_GetMSBs8x16.\n",
      "ERROR   | 2022-11-21 20:24:15,750 | angr.analyses.cfg.indirect_jump_resolvers.jumptable.JumpTableProcessor | Unsupported Unop Iop_GetMSBs8x16.\n",
      "ERROR   | 2022-11-21 20:24:15,756 | angr.analyses.cfg.indirect_jump_resolvers.jumptable.JumpTableProcessor | Unsupported Unop Iop_GetMSBs8x16.\n",
      "ERROR   | 2022-11-21 20:24:15,757 | angr.analyses.cfg.indirect_jump_resolvers.jumptable.JumpTableProcessor | Unsupported Unop Iop_GetMSBs8x16.\n",
      "ERROR   | 2022-11-21 20:24:15,757 | angr.analyses.cfg.indirect_jump_resolvers.jumptable.JumpTableProcessor | Unsupported Unop Iop_GetMSBs8x16.\n",
      "ERROR   | 2022-11-21 20:24:15,758 | angr.analyses.cfg.indirect_jump_resolvers.jumptable.JumpTableProcessor | Unsupported Unop Iop_GetMSBs8x16.\n",
      "ERROR   | 2022-11-21 20:24:15,759 | angr.analyses.cfg.indirect_jump_resolvers.jumptable.JumpTableProcessor | Unsupported Unop Iop_GetMSBs8x16.\n",
      "ERROR   | 2022-11-21 20:24:15,872 | angr.analyses.cfg.indirect_jump_resolvers.jumptable.JumpTableProcessor | Unsupported Unop Iop_GetMSBs8x16.\n",
      "ERROR   | 2022-11-21 20:24:15,873 | angr.analyses.cfg.indirect_jump_resolvers.jumptable.JumpTableProcessor | Unsupported Unop Iop_GetMSBs8x16.\n",
      "ERROR   | 2022-11-21 20:24:15,874 | angr.analyses.cfg.indirect_jump_resolvers.jumptable.JumpTableProcessor | Unsupported Unop Iop_GetMSBs8x16.\n",
      "ERROR   | 2022-11-21 20:24:15,875 | angr.analyses.cfg.indirect_jump_resolvers.jumptable.JumpTableProcessor | Unsupported Unop Iop_GetMSBs8x16.\n",
      "ERROR   | 2022-11-21 20:24:15,876 | angr.analyses.cfg.indirect_jump_resolvers.jumptable.JumpTableProcessor | Unsupported Unop Iop_GetMSBs8x16.\n",
      "ERROR   | 2022-11-21 20:24:15,876 | angr.analyses.cfg.indirect_jump_resolvers.jumptable.JumpTableProcessor | Unsupported Unop Iop_GetMSBs8x16.\n",
      "ERROR   | 2022-11-21 20:24:15,877 | angr.analyses.cfg.indirect_jump_resolvers.jumptable.JumpTableProcessor | Unsupported Unop Iop_GetMSBs8x16.\n"
     ]
    },
    {
     "name": "stderr",
     "output_type": "stream",
     "text": [
      "ERROR   | 2022-11-21 20:24:15,882 | angr.analyses.cfg.indirect_jump_resolvers.jumptable.JumpTableProcessor | Unsupported Unop Iop_GetMSBs8x16.\n",
      "ERROR   | 2022-11-21 20:24:15,883 | angr.analyses.cfg.indirect_jump_resolvers.jumptable.JumpTableProcessor | Unsupported Unop Iop_GetMSBs8x16.\n",
      "ERROR   | 2022-11-21 20:24:15,884 | angr.analyses.cfg.indirect_jump_resolvers.jumptable.JumpTableProcessor | Unsupported Unop Iop_GetMSBs8x16.\n",
      "ERROR   | 2022-11-21 20:24:15,890 | angr.analyses.cfg.indirect_jump_resolvers.jumptable.JumpTableProcessor | Unsupported Unop Iop_GetMSBs8x16.\n",
      "ERROR   | 2022-11-21 20:24:15,890 | angr.analyses.cfg.indirect_jump_resolvers.jumptable.JumpTableProcessor | Unsupported Unop Iop_GetMSBs8x16.\n",
      "ERROR   | 2022-11-21 20:24:15,891 | angr.analyses.cfg.indirect_jump_resolvers.jumptable.JumpTableProcessor | Unsupported Unop Iop_GetMSBs8x16.\n",
      "ERROR   | 2022-11-21 20:24:15,892 | angr.analyses.cfg.indirect_jump_resolvers.jumptable.JumpTableProcessor | Unsupported Unop Iop_GetMSBs8x16.\n",
      "ERROR   | 2022-11-21 20:24:15,893 | angr.analyses.cfg.indirect_jump_resolvers.jumptable.JumpTableProcessor | Unsupported Unop Iop_GetMSBs8x16.\n",
      "ERROR   | 2022-11-21 20:24:16,113 | angr.analyses.cfg.indirect_jump_resolvers.jumptable.JumpTableProcessor | Unsupported Unop Iop_GetMSBs8x16.\n",
      "ERROR   | 2022-11-21 20:24:16,113 | angr.analyses.cfg.indirect_jump_resolvers.jumptable.JumpTableProcessor | Unsupported Unop Iop_GetMSBs8x16.\n",
      "ERROR   | 2022-11-21 20:24:16,116 | angr.analyses.cfg.indirect_jump_resolvers.jumptable.JumpTableProcessor | Unsupported Binop Iop_Min8Ux16.\n",
      "ERROR   | 2022-11-21 20:24:16,116 | angr.analyses.cfg.indirect_jump_resolvers.jumptable.JumpTableProcessor | Unsupported Binop Iop_Min8Ux16.\n",
      "ERROR   | 2022-11-21 20:24:16,116 | angr.analyses.cfg.indirect_jump_resolvers.jumptable.JumpTableProcessor | Unsupported Binop Iop_Min8Ux16.\n",
      "ERROR   | 2022-11-21 20:24:16,117 | angr.analyses.cfg.indirect_jump_resolvers.jumptable.JumpTableProcessor | Unsupported Unop Iop_GetMSBs8x16.\n",
      "ERROR   | 2022-11-21 20:24:16,118 | angr.analyses.cfg.indirect_jump_resolvers.jumptable.JumpTableProcessor | Unsupported Unop Iop_GetMSBs8x16.\n",
      "ERROR   | 2022-11-21 20:24:16,118 | angr.analyses.cfg.indirect_jump_resolvers.jumptable.JumpTableProcessor | Unsupported Unop Iop_GetMSBs8x16.\n",
      "ERROR   | 2022-11-21 20:24:16,119 | angr.analyses.cfg.indirect_jump_resolvers.jumptable.JumpTableProcessor | Unsupported Binop Iop_Min8Ux16.\n",
      "ERROR   | 2022-11-21 20:24:16,120 | angr.analyses.cfg.indirect_jump_resolvers.jumptable.JumpTableProcessor | Unsupported Binop Iop_Min8Ux16.\n",
      "ERROR   | 2022-11-21 20:24:16,120 | angr.analyses.cfg.indirect_jump_resolvers.jumptable.JumpTableProcessor | Unsupported Binop Iop_Min8Ux16.\n",
      "ERROR   | 2022-11-21 20:24:16,120 | angr.analyses.cfg.indirect_jump_resolvers.jumptable.JumpTableProcessor | Unsupported Unop Iop_GetMSBs8x16.\n",
      "ERROR   | 2022-11-21 20:24:16,121 | angr.analyses.cfg.indirect_jump_resolvers.jumptable.JumpTableProcessor | Unsupported Unop Iop_GetMSBs8x16.\n",
      "ERROR   | 2022-11-21 20:24:16,121 | angr.analyses.cfg.indirect_jump_resolvers.jumptable.JumpTableProcessor | Unsupported Unop Iop_GetMSBs8x16.\n",
      "ERROR   | 2022-11-21 20:24:16,711 | angr.analyses.cfg.indirect_jump_resolvers.jumptable.JumpTableProcessor | Unsupported Unop Iop_GetMSBs8x16.\n",
      "ERROR   | 2022-11-21 20:24:16,713 | angr.analyses.cfg.indirect_jump_resolvers.jumptable.JumpTableProcessor | Unsupported Unop Iop_GetMSBs8x16.\n",
      "ERROR   | 2022-11-21 20:24:16,714 | angr.analyses.cfg.indirect_jump_resolvers.jumptable.JumpTableProcessor | Unsupported Unop Iop_GetMSBs8x16.\n",
      "ERROR   | 2022-11-21 20:24:16,859 | angr.analyses.cfg.indirect_jump_resolvers.jumptable.JumpTableProcessor | Unsupported Unop Iop_GetMSBs8x16.\n",
      "ERROR   | 2022-11-21 20:24:16,860 | angr.analyses.cfg.indirect_jump_resolvers.jumptable.JumpTableProcessor | Unsupported Unop Iop_GetMSBs8x16.\n",
      "ERROR   | 2022-11-21 20:24:16,862 | angr.analyses.cfg.indirect_jump_resolvers.jumptable.JumpTableProcessor | Unsupported Binop Iop_Min8Ux16.\n",
      "ERROR   | 2022-11-21 20:24:16,863 | angr.analyses.cfg.indirect_jump_resolvers.jumptable.JumpTableProcessor | Unsupported Binop Iop_Min8Ux16.\n",
      "ERROR   | 2022-11-21 20:24:16,863 | angr.analyses.cfg.indirect_jump_resolvers.jumptable.JumpTableProcessor | Unsupported Binop Iop_Min8Ux16.\n",
      "ERROR   | 2022-11-21 20:24:16,863 | angr.analyses.cfg.indirect_jump_resolvers.jumptable.JumpTableProcessor | Unsupported Unop Iop_GetMSBs8x16.\n",
      "ERROR   | 2022-11-21 20:24:16,864 | angr.analyses.cfg.indirect_jump_resolvers.jumptable.JumpTableProcessor | Unsupported Unop Iop_GetMSBs8x16.\n",
      "ERROR   | 2022-11-21 20:24:16,865 | angr.analyses.cfg.indirect_jump_resolvers.jumptable.JumpTableProcessor | Unsupported Unop Iop_GetMSBs8x16.\n",
      "ERROR   | 2022-11-21 20:24:16,865 | angr.analyses.cfg.indirect_jump_resolvers.jumptable.JumpTableProcessor | Unsupported Binop Iop_Min8Ux16.\n",
      "ERROR   | 2022-11-21 20:24:16,866 | angr.analyses.cfg.indirect_jump_resolvers.jumptable.JumpTableProcessor | Unsupported Binop Iop_Min8Ux16.\n",
      "ERROR   | 2022-11-21 20:24:16,866 | angr.analyses.cfg.indirect_jump_resolvers.jumptable.JumpTableProcessor | Unsupported Binop Iop_Min8Ux16.\n",
      "ERROR   | 2022-11-21 20:24:16,867 | angr.analyses.cfg.indirect_jump_resolvers.jumptable.JumpTableProcessor | Unsupported Unop Iop_GetMSBs8x16.\n",
      "ERROR   | 2022-11-21 20:24:16,867 | angr.analyses.cfg.indirect_jump_resolvers.jumptable.JumpTableProcessor | Unsupported Unop Iop_GetMSBs8x16.\n",
      "ERROR   | 2022-11-21 20:24:16,868 | angr.analyses.cfg.indirect_jump_resolvers.jumptable.JumpTableProcessor | Unsupported Unop Iop_GetMSBs8x16.\n",
      "ERROR   | 2022-11-21 20:24:16,977 | angr.analyses.cfg.indirect_jump_resolvers.jumptable.JumpTableProcessor | Unsupported Unop Iop_GetMSBs8x16.\n",
      "ERROR   | 2022-11-21 20:24:16,978 | angr.analyses.cfg.indirect_jump_resolvers.jumptable.JumpTableProcessor | Unsupported Unop Iop_GetMSBs8x16.\n",
      "ERROR   | 2022-11-21 20:24:16,979 | angr.analyses.cfg.indirect_jump_resolvers.jumptable.JumpTableProcessor | Unsupported Unop Iop_GetMSBs8x16.\n",
      "ERROR   | 2022-11-21 20:24:17,108 | angr.analyses.cfg.indirect_jump_resolvers.jumptable.JumpTableProcessor | Unsupported Unop Iop_GetMSBs8x16.\n",
      "ERROR   | 2022-11-21 20:24:17,109 | angr.analyses.cfg.indirect_jump_resolvers.jumptable.JumpTableProcessor | Unsupported Unop Iop_GetMSBs8x16.\n",
      "ERROR   | 2022-11-21 20:24:17,110 | angr.analyses.cfg.indirect_jump_resolvers.jumptable.JumpTableProcessor | Unsupported Unop Iop_GetMSBs8x16.\n",
      "ERROR   | 2022-11-21 20:24:17,233 | angr.analyses.cfg.indirect_jump_resolvers.jumptable.JumpTableProcessor | Unsupported Unop Iop_GetMSBs8x16.\n",
      "ERROR   | 2022-11-21 20:24:17,235 | angr.analyses.cfg.indirect_jump_resolvers.jumptable.JumpTableProcessor | Unsupported Unop Iop_GetMSBs8x16.\n",
      "ERROR   | 2022-11-21 20:24:17,235 | angr.analyses.cfg.indirect_jump_resolvers.jumptable.JumpTableProcessor | Unsupported Unop Iop_GetMSBs8x16.\n",
      "ERROR   | 2022-11-21 20:24:18,181 | angr.analyses.cfg.indirect_jump_resolvers.jumptable.JumpTableProcessor | Unsupported Unop Iop_GetMSBs8x16.\n",
      "ERROR   | 2022-11-21 20:24:18,181 | angr.analyses.cfg.indirect_jump_resolvers.jumptable.JumpTableProcessor | Unsupported Unop Iop_GetMSBs8x16.\n",
      "ERROR   | 2022-11-21 20:24:18,183 | angr.analyses.cfg.indirect_jump_resolvers.jumptable.JumpTableProcessor | Unsupported Unop Iop_GetMSBs8x16.\n",
      "ERROR   | 2022-11-21 20:24:18,183 | angr.analyses.cfg.indirect_jump_resolvers.jumptable.JumpTableProcessor | Unsupported Unop Iop_GetMSBs8x16.\n",
      "ERROR   | 2022-11-21 20:24:18,185 | angr.analyses.cfg.indirect_jump_resolvers.jumptable.JumpTableProcessor | Unsupported Unop Iop_GetMSBs8x16.\n",
      "ERROR   | 2022-11-21 20:24:18,185 | angr.analyses.cfg.indirect_jump_resolvers.jumptable.JumpTableProcessor | Unsupported Unop Iop_GetMSBs8x16.\n",
      "ERROR   | 2022-11-21 20:24:18,186 | angr.analyses.cfg.indirect_jump_resolvers.jumptable.JumpTableProcessor | Unsupported Unop Iop_GetMSBs8x16.\n",
      "ERROR   | 2022-11-21 20:24:18,186 | angr.analyses.cfg.indirect_jump_resolvers.jumptable.JumpTableProcessor | Unsupported Unop Iop_GetMSBs8x16.\n",
      "ERROR   | 2022-11-21 20:24:18,425 | angr.analyses.cfg.indirect_jump_resolvers.jumptable.JumpTableProcessor | Unsupported Unop Iop_GetMSBs8x16.\n",
      "ERROR   | 2022-11-21 20:24:18,426 | angr.analyses.cfg.indirect_jump_resolvers.jumptable.JumpTableProcessor | Unsupported Unop Iop_GetMSBs8x16.\n"
     ]
    },
    {
     "name": "stderr",
     "output_type": "stream",
     "text": [
      "ERROR   | 2022-11-21 20:24:18,427 | angr.analyses.cfg.indirect_jump_resolvers.jumptable.JumpTableProcessor | Unsupported Unop Iop_GetMSBs8x16.\n",
      "ERROR   | 2022-11-21 20:24:18,428 | angr.analyses.cfg.indirect_jump_resolvers.jumptable.JumpTableProcessor | Unsupported Unop Iop_GetMSBs8x16.\n",
      "ERROR   | 2022-11-21 20:24:18,428 | angr.analyses.cfg.indirect_jump_resolvers.jumptable.JumpTableProcessor | Unsupported Unop Iop_GetMSBs8x16.\n",
      "ERROR   | 2022-11-21 20:24:18,532 | angr.analyses.cfg.indirect_jump_resolvers.jumptable.JumpTableProcessor | Unsupported Unop Iop_GetMSBs8x16.\n",
      "ERROR   | 2022-11-21 20:24:18,532 | angr.analyses.cfg.indirect_jump_resolvers.jumptable.JumpTableProcessor | Unsupported Unop Iop_GetMSBs8x16.\n",
      "ERROR   | 2022-11-21 20:24:18,534 | angr.analyses.cfg.indirect_jump_resolvers.jumptable.JumpTableProcessor | Unsupported Unop Iop_GetMSBs8x16.\n",
      "ERROR   | 2022-11-21 20:24:18,534 | angr.analyses.cfg.indirect_jump_resolvers.jumptable.JumpTableProcessor | Unsupported Unop Iop_GetMSBs8x16.\n",
      "ERROR   | 2022-11-21 20:24:18,536 | angr.analyses.cfg.indirect_jump_resolvers.jumptable.JumpTableProcessor | Unsupported Unop Iop_GetMSBs8x16.\n",
      "ERROR   | 2022-11-21 20:24:18,536 | angr.analyses.cfg.indirect_jump_resolvers.jumptable.JumpTableProcessor | Unsupported Unop Iop_GetMSBs8x16.\n",
      "ERROR   | 2022-11-21 20:24:18,537 | angr.analyses.cfg.indirect_jump_resolvers.jumptable.JumpTableProcessor | Unsupported Unop Iop_GetMSBs8x16.\n",
      "ERROR   | 2022-11-21 20:24:18,537 | angr.analyses.cfg.indirect_jump_resolvers.jumptable.JumpTableProcessor | Unsupported Unop Iop_GetMSBs8x16.\n",
      "ERROR   | 2022-11-21 20:24:18,620 | angr.analyses.cfg.indirect_jump_resolvers.jumptable.JumpTableProcessor | Unsupported Unop Iop_GetMSBs8x16.\n",
      "ERROR   | 2022-11-21 20:24:18,621 | angr.analyses.cfg.indirect_jump_resolvers.jumptable.JumpTableProcessor | Unsupported Unop Iop_GetMSBs8x16.\n",
      "ERROR   | 2022-11-21 20:24:18,623 | angr.analyses.cfg.indirect_jump_resolvers.jumptable.JumpTableProcessor | Unsupported Unop Iop_GetMSBs8x16.\n",
      "ERROR   | 2022-11-21 20:24:18,623 | angr.analyses.cfg.indirect_jump_resolvers.jumptable.JumpTableProcessor | Unsupported Unop Iop_GetMSBs8x16.\n",
      "ERROR   | 2022-11-21 20:24:18,624 | angr.analyses.cfg.indirect_jump_resolvers.jumptable.JumpTableProcessor | Unsupported Unop Iop_GetMSBs8x16.\n",
      "ERROR   | 2022-11-21 20:24:19,945 | angr.analyses.cfg.indirect_jump_resolvers.jumptable.JumpTableProcessor | Unsupported Unop Iop_GetMSBs8x16.\n",
      "ERROR   | 2022-11-21 20:24:20,184 | angr.analyses.cfg.indirect_jump_resolvers.jumptable.JumpTableProcessor | Unsupported Unop Iop_GetMSBs8x16.\n",
      "ERROR   | 2022-11-21 20:24:20,553 | angr.analyses.cfg.indirect_jump_resolvers.jumptable.JumpTableProcessor | Unsupported Unop Iop_GetMSBs8x16.\n",
      "ERROR   | 2022-11-21 20:24:20,664 | angr.analyses.cfg.indirect_jump_resolvers.jumptable.JumpTableProcessor | Unsupported Unop Iop_GetMSBs8x16.\n",
      "WARNING | 2022-11-21 20:24:29,518 | pyvex.lifting.gym.x86_spotter | The generalized AAM instruction is not supported by VEX, and is handled specially by pyvex. It has no flag handling at present.  See pyvex/lifting/gym/x86_spotter.py for details\n",
      "WARNING | 2022-11-21 20:24:29,524 | pyvex.lifting.gym.x86_spotter | The generalized AAM instruction is not supported by VEX, and is handled specially by pyvex. It has no flag handling at present.  See pyvex/lifting/gym/x86_spotter.py for details\n",
      "INFO    | 2022-11-21 20:24:29,535 | pyvex.lifting.libvex | unhandled opc_aux = 0x 4\n",
      "first_opcode == 0xDF\n",
      "\n",
      "INFO    | 2022-11-21 20:24:29,536 | pyvex.lifting.libvex | unhandled opc_aux = 0x 4\n",
      "first_opcode == 0xDF\n",
      "\n",
      "INFO    | 2022-11-21 20:24:29,537 | pyvex.lifting.libvex | unhandled opc_aux = 0x 4\n",
      "first_opcode == 0xDF\n",
      "\n",
      "WARNING | 2022-11-21 20:24:29,542 | pyvex.lifting.gym.x86_spotter | The generalized AAM instruction is not supported by VEX, and is handled specially by pyvex. It has no flag handling at present.  See pyvex/lifting/gym/x86_spotter.py for details\n",
      "WARNING | 2022-11-21 20:24:29,543 | pyvex.lifting.gym.x86_spotter | The generalized AAM instruction is not supported by VEX, and is handled specially by pyvex. It has no flag handling at present.  See pyvex/lifting/gym/x86_spotter.py for details\n",
      "INFO    | 2022-11-21 20:24:29,586 | pyvex.lifting.libvex | unhandled opc_aux = 0x 4\n",
      "first_opcode == 0xDB\n",
      "\n",
      "INFO    | 2022-11-21 20:24:29,587 | pyvex.lifting.libvex | unhandled opc_aux = 0x 4\n",
      "first_opcode == 0xDB\n",
      "\n",
      "INFO    | 2022-11-21 20:24:29,587 | pyvex.lifting.libvex | unhandled opc_aux = 0x 4\n",
      "first_opcode == 0xDB\n",
      "\n",
      "INFO    | 2022-11-21 20:24:29,592 | pyvex.lifting.libvex | unhandled opc_aux = 0x 4\n",
      "first_opcode == 0xDB\n",
      "\n",
      "INFO    | 2022-11-21 20:24:29,592 | pyvex.lifting.libvex | unhandled opc_aux = 0x 4\n",
      "first_opcode == 0xDB\n",
      "\n",
      "INFO    | 2022-11-21 20:24:29,593 | pyvex.lifting.libvex | unhandled opc_aux = 0x 4\n",
      "first_opcode == 0xDB\n",
      "\n",
      "INFO    | 2022-11-21 20:24:29,623 | pyvex.lifting.libvex | unhandled opc_aux = 0x 4\n",
      "first_opcode == 0xDB\n",
      "\n",
      "INFO    | 2022-11-21 20:24:29,623 | pyvex.lifting.libvex | unhandled opc_aux = 0x 4\n",
      "first_opcode == 0xDB\n",
      "\n",
      "INFO    | 2022-11-21 20:24:29,624 | pyvex.lifting.libvex | unhandled opc_aux = 0x 4\n",
      "first_opcode == 0xDB\n",
      "\n",
      "INFO    | 2022-11-21 20:24:29,628 | pyvex.lifting.libvex | unhandled opc_aux = 0x 4\n",
      "first_opcode == 0xDB\n",
      "\n",
      "INFO    | 2022-11-21 20:24:29,629 | pyvex.lifting.libvex | unhandled opc_aux = 0x 4\n",
      "first_opcode == 0xDB\n",
      "\n",
      "INFO    | 2022-11-21 20:24:29,630 | pyvex.lifting.libvex | unhandled opc_aux = 0x 4\n",
      "first_opcode == 0xDB\n",
      "\n",
      "WARNING | 2022-11-21 20:24:29,674 | pyvex.lifting.gym.x86_spotter | The generalized AAM instruction is not supported by VEX, and is handled specially by pyvex. It has no flag handling at present.  See pyvex/lifting/gym/x86_spotter.py for details\n",
      "WARNING | 2022-11-21 20:24:29,731 | pyvex.lifting.gym.x86_spotter | The generalized AAM instruction is not supported by VEX, and is handled specially by pyvex. It has no flag handling at present.  See pyvex/lifting/gym/x86_spotter.py for details\n",
      "WARNING | 2022-11-21 20:24:29,738 | pyvex.lifting.gym.x86_spotter | The generalized AAM instruction is not supported by VEX, and is handled specially by pyvex. It has no flag handling at present.  See pyvex/lifting/gym/x86_spotter.py for details\n",
      "INFO    | 2022-11-21 20:24:29,747 | pyvex.lifting.libvex | unhandled opc_aux = 0x 4\n",
      "first_opcode == 0xDF\n",
      "\n",
      "INFO    | 2022-11-21 20:24:29,748 | pyvex.lifting.libvex | unhandled opc_aux = 0x 4\n",
      "first_opcode == 0xDF\n",
      "\n",
      "INFO    | 2022-11-21 20:24:29,748 | pyvex.lifting.libvex | unhandled opc_aux = 0x 4\n",
      "first_opcode == 0xDF\n",
      "\n",
      "WARNING | 2022-11-21 20:24:29,753 | pyvex.lifting.gym.x86_spotter | The generalized AAM instruction is not supported by VEX, and is handled specially by pyvex. It has no flag handling at present.  See pyvex/lifting/gym/x86_spotter.py for details\n",
      "WARNING | 2022-11-21 20:24:29,754 | pyvex.lifting.gym.x86_spotter | The generalized AAM instruction is not supported by VEX, and is handled specially by pyvex. It has no flag handling at present.  See pyvex/lifting/gym/x86_spotter.py for details\n",
      "INFO    | 2022-11-21 20:24:29,795 | pyvex.lifting.libvex | unhandled opc_aux = 0x 2\n",
      "first_opcode == 0xDA\n",
      "\n",
      "WARNING | 2022-11-21 20:24:29,829 | pyvex.lifting.gym.x86_spotter | The generalized AAM instruction is not supported by VEX, and is handled specially by pyvex. It has no flag handling at present.  See pyvex/lifting/gym/x86_spotter.py for details\n",
      "ERROR   | 2022-11-21 20:24:36,873 | angr.analyses.propagator.engine_vex.SimEnginePropagatorVEX | Unsupported expression type GetI.\n",
      "ERROR   | 2022-11-21 20:24:36,873 | angr.analyses.propagator.engine_vex.SimEnginePropagatorVEX | Unsupported expression type GetI.\n",
      "ERROR   | 2022-11-21 20:24:36,873 | angr.analyses.propagator.engine_vex.SimEnginePropagatorVEX | Unsupported Triop Iop_MulF64.\n",
      "ERROR   | 2022-11-21 20:24:36,874 | angr.analyses.propagator.engine_vex.SimEnginePropagatorVEX | Unsupported statement type PutI.\n",
      "ERROR   | 2022-11-21 20:24:36,874 | angr.analyses.propagator.engine_vex.SimEnginePropagatorVEX | Unsupported statement type PutI.\n",
      "ERROR   | 2022-11-21 20:24:36,888 | angr.analyses.propagator.engine_vex.SimEnginePropagatorVEX | Unsupported expression type GetI.\n",
      "ERROR   | 2022-11-21 20:24:36,889 | angr.analyses.propagator.engine_vex.SimEnginePropagatorVEX | Unsupported expression type GetI.\n"
     ]
    },
    {
     "name": "stderr",
     "output_type": "stream",
     "text": [
      "ERROR   | 2022-11-21 20:24:36,889 | angr.analyses.propagator.engine_vex.SimEnginePropagatorVEX | Unsupported Triop Iop_MulF64.\n",
      "ERROR   | 2022-11-21 20:24:36,889 | angr.analyses.propagator.engine_vex.SimEnginePropagatorVEX | Unsupported statement type PutI.\n",
      "ERROR   | 2022-11-21 20:24:36,890 | angr.analyses.propagator.engine_vex.SimEnginePropagatorVEX | Unsupported statement type PutI.\n",
      "ERROR   | 2022-11-21 20:24:36,908 | angr.analyses.propagator.engine_vex.SimEnginePropagatorVEX | Unsupported statement type Dirty.\n",
      "WARNING | 2022-11-21 20:24:38,592 | pyvex.lifting.gym.x86_spotter | The generalized AAM instruction is not supported by VEX, and is handled specially by pyvex. It has no flag handling at present.  See pyvex/lifting/gym/x86_spotter.py for details\n",
      "WARNING | 2022-11-21 20:24:38,631 | pyvex.lifting.gym.x86_spotter | The generalized AAM instruction is not supported by VEX, and is handled specially by pyvex. It has no flag handling at present.  See pyvex/lifting/gym/x86_spotter.py for details\n"
     ]
    }
   ],
   "source": [
    "proj = angr.Project(\"./Samples/sample13\",load_options = {'auto_load_libs':False})\n",
    "cfg = proj.analyses.CFGFast(normalize = True)"
   ]
  },
  {
   "cell_type": "code",
   "execution_count": 32,
   "id": "477fc075",
   "metadata": {},
   "outputs": [],
   "source": [
    "start_node = proj.loader.main_object.get_symbol('main').rebased_addr\n",
    "start_node = cfg.get_any_node(start_node)"
   ]
  },
  {
   "cell_type": "code",
   "execution_count": 38,
   "id": "a66221e0",
   "metadata": {},
   "outputs": [],
   "source": [
    "call_list = []\n",
    "parents = {}\n",
    "call_list.append(start_node.addr)\n",
    "parents[start_node.addr] = '-1'\n",
    "\n",
    "for i in call_list:\n",
    "    node = cfg.get_any_node(i)\n",
    "    #funname = node.name + '+' + str(i)\n",
    "    child_funs = list(cfg.kb.functions[node.addr].get_call_sites())\n",
    "    for j in child_funs:\n",
    "        node2 = cfg.get_any_node(j)\n",
    "        cname = node2.successors[0].addr\n",
    "        if parents.get(cname) == None:\n",
    "            parents[cname] = []\n",
    "        parents[cname].append(cfg.kb.functions[node.addr].get_call_return(j))\n",
    "        #print(node.name,node.addr,node2.successors[0].name,node2.successors[0].addr)\n",
    "        if node2.successors[0].addr not in call_list:\n",
    "            call_list.append(node2.successors[0].addr)"
   ]
  },
  {
   "cell_type": "code",
   "execution_count": 27,
   "id": "1f33ccd4",
   "metadata": {},
   "outputs": [],
   "source": [
    "for i in call_list:\n",
    "    if i == 4274176:\n",
    "        print(i)"
   ]
  },
  {
   "cell_type": "code",
   "execution_count": 40,
   "id": "eb9ce19f",
   "metadata": {},
   "outputs": [
    {
     "name": "stdout",
     "output_type": "stream",
     "text": [
      "getrandom\n",
      "futex\n",
      "close\n",
      "munmap\n",
      "lseek\n",
      "read\n",
      "newfstatat\n",
      "sys_718\n",
      "write\n",
      "openat\n",
      "getrandom\n",
      "futex\n",
      "rt_sigprocmask\n",
      "write\n",
      "rt_sigprocmask\n",
      "futex\n",
      "write\n",
      "mmap\n",
      "mprotect\n",
      "futex\n",
      "futex\n",
      "sys_718\n",
      "writev\n",
      "readlink\n",
      "ioctl\n",
      "arch_prctl\n",
      "clock_gettime\n",
      "sys_718\n",
      "writev\n",
      "futex\n",
      "writev\n",
      "madvise\n",
      "fcntl\n",
      "fcntl\n",
      "sys_718\n",
      "gettid\n",
      "rt_sigprocmask\n",
      "getpid\n",
      "getdents64\n",
      "set_tid_address\n",
      "mremap\n",
      "sched_getaffinity\n",
      "openat\n",
      "sched_yield\n",
      "set_robust_list\n",
      "sys_718\n",
      "tgkill\n",
      "tgkill\n",
      "rt_sigaction\n",
      "openat\n",
      "sys_718\n",
      "getcwd\n",
      "futex\n",
      "futex\n",
      "futex\n",
      "futex\n",
      "sys_718\n",
      "prlimit64\n",
      "futex\n",
      "sys_718\n",
      "brk\n",
      "pread64\n",
      "futex\n",
      "openat\n",
      "futex\n",
      "setitimer\n",
      "futex\n",
      "futex\n",
      "futex\n",
      "futex\n",
      "futex\n",
      "futex\n",
      "futex\n",
      "sys_718\n",
      "sched_getparam\n",
      "sched_get_priority_max\n",
      "sched_getscheduler\n",
      "arch_prctl\n",
      "sched_get_priority_min\n",
      "futex\n",
      "sys_718\n",
      "sched_setscheduler\n"
     ]
    }
   ],
   "source": [
    "adj = {}\n",
    "d = []\n",
    "nodelist = []\n",
    "nodelist.append(start_node)\n",
    "\n",
    "for i in nodelist:\n",
    "    adj[i] = []\n",
    "    d.append(i)\n",
    "    succ = i.successors\n",
    "    if i.is_syscall == True:\n",
    "        print(i.name)\n",
    "        \n",
    "    if i.has_return == True and parents.get(i.function_address) != None:\n",
    "        old_succ = succ\n",
    "        succ = []\n",
    "        for k in old_succ:\n",
    "            if k.addr in parents[i.function_address]:\n",
    "                succ.append(k)\n",
    "    for j in succ:\n",
    "        if j.is_syscall == True:\n",
    "            print(j.name)\n",
    "            retaddr = cfg.functions[i.function_address].get_call_return(i.addr)\n",
    "            retnode = cfg.get_any_node(retaddr)\n",
    "            if retnode != None:\n",
    "                d.append(retnode)\n",
    "                nodelist.append(retnode)\n",
    "                if adj.get(j) == None:\n",
    "                    adj[j] = []\n",
    "                adj[j].append(retnode)\n",
    "                adj[i].append(j)\n",
    "        else:\n",
    "            if j not in d and j != None:\n",
    "                nodelist.append(j)\n",
    "                d.append(j)\n",
    "\n",
    "            if j != None:\n",
    "                adj[i].append(j)\n"
   ]
  },
  {
   "cell_type": "code",
   "execution_count": 6,
   "id": "e45a1443",
   "metadata": {},
   "outputs": [
    {
     "ename": "TypeError",
     "evalue": "unsupported operand type(s) for +: 'NoneType' and 'str'",
     "output_type": "error",
     "traceback": [
      "\u001b[0;31m---------------------------------------------------------------------------\u001b[0m",
      "\u001b[0;31mTypeError\u001b[0m                                 Traceback (most recent call last)",
      "Cell \u001b[0;32mIn [6], line 6\u001b[0m\n\u001b[1;32m      4\u001b[0m \u001b[38;5;28;01mfor\u001b[39;00m i \u001b[38;5;129;01min\u001b[39;00m adj[key]:\n\u001b[1;32m      5\u001b[0m     keyname \u001b[38;5;241m=\u001b[39m key\u001b[38;5;241m.\u001b[39mname \u001b[38;5;241m+\u001b[39m \u001b[38;5;124m\"\u001b[39m\u001b[38;5;124m \u001b[39m\u001b[38;5;124m\"\u001b[39m \u001b[38;5;241m+\u001b[39m \u001b[38;5;28mstr\u001b[39m(key\u001b[38;5;241m.\u001b[39maddr)\n\u001b[0;32m----> 6\u001b[0m     nodename \u001b[38;5;241m=\u001b[39m \u001b[43mi\u001b[49m\u001b[38;5;241;43m.\u001b[39;49m\u001b[43mname\u001b[49m\u001b[43m \u001b[49m\u001b[38;5;241;43m+\u001b[39;49m\u001b[43m \u001b[49m\u001b[38;5;124;43m\"\u001b[39;49m\u001b[38;5;124;43m \u001b[39;49m\u001b[38;5;124;43m\"\u001b[39;49m \u001b[38;5;241m+\u001b[39m \u001b[38;5;28mstr\u001b[39m(i\u001b[38;5;241m.\u001b[39maddr)\n\u001b[1;32m      7\u001b[0m     labl \u001b[38;5;241m=\u001b[39m \u001b[38;5;124m'\u001b[39m\u001b[38;5;124m'\u001b[39m\n\u001b[1;32m      8\u001b[0m     \u001b[38;5;28;01mif\u001b[39;00m i\u001b[38;5;241m.\u001b[39mis_syscall \u001b[38;5;241m==\u001b[39m \u001b[38;5;28;01mTrue\u001b[39;00m:\n",
      "\u001b[0;31mTypeError\u001b[0m: unsupported operand type(s) for +: 'NoneType' and 'str'"
     ]
    }
   ],
   "source": [
    "dot = graphviz.Digraph(filename = 'call_graph1.gv')\n",
    "\n",
    "for key in adj:\n",
    "    for i in adj[key]:\n",
    "        keyname = key.name + \" \" + str(key.addr)\n",
    "        nodename = i.name + \" \" + str(i.addr)\n",
    "        labl = ''\n",
    "        if i.is_syscall == True:\n",
    "            labl = i.name\n",
    "        dot.edge(keyname,nodename,labl)\n",
    "\n",
    "dot.view()"
   ]
  },
  {
   "cell_type": "code",
   "execution_count": 41,
   "id": "a1c9706f",
   "metadata": {},
   "outputs": [],
   "source": [
    "graph = open(\"automaton\",'w')\n",
    "\n",
    "for key in adj:\n",
    "    for i in adj[key]:\n",
    "        keyname = str(key.addr) + \" \"\n",
    "        nodename = str(i.addr) + \" \"\n",
    "        labl = '-'\n",
    "        if i.is_syscall == True:\n",
    "            labl = i.name\n",
    "        labl += '\\n'\n",
    "        graph.write(keyname + nodename + labl)\n",
    "\n",
    "ret = cfg.kb.functions[start_node.function_address].ret_sites[0].addr\n",
    "ret = str(ret)\n",
    "graph.write(ret+\" 9999999\"+\" exit_group\")\n",
    "graph.close()"
   ]
  },
  {
   "cell_type": "code",
   "execution_count": 47,
   "id": "e0b0e264",
   "metadata": {},
   "outputs": [
    {
     "data": {
      "text/plain": [
       "0x401745"
      ]
     },
     "execution_count": 47,
     "metadata": {},
     "output_type": "execute_result"
    }
   ],
   "source": [
    "start_node.addr"
   ]
  },
  {
   "cell_type": "code",
   "execution_count": 70,
   "id": "3034fc17",
   "metadata": {},
   "outputs": [
    {
     "data": {
      "text/plain": [
       "{0x401745: ['-1']}"
      ]
     },
     "execution_count": 70,
     "metadata": {},
     "output_type": "execute_result"
    }
   ],
   "source": [
    "parents"
   ]
  },
  {
   "cell_type": "code",
   "execution_count": null,
   "id": "7dd80100",
   "metadata": {},
   "outputs": [],
   "source": [
    "## experimental ---------------------------------------------------------------------------------"
   ]
  },
  {
   "cell_type": "code",
   "execution_count": 33,
   "id": "e891f8c5",
   "metadata": {},
   "outputs": [],
   "source": [
    "call_list = []\n",
    "parents = {}\n",
    "call_list.append(start_node.addr)\n",
    "parents[start_node.addr] = []\n",
    "parents[start_node.addr].append('-1')\n",
    "\n",
    "for i in call_list:\n",
    "    node = cfg.get_any_node(i)\n",
    "    #funname = node.name + '+' + str(i)\n",
    "    child_funs = list(cfg.kb.functions[node.addr].get_call_sites())\n",
    "    for j in child_funs:\n",
    "        node2 = cfg.get_any_node(j)\n",
    "        cname = node2.successors[0].addr\n",
    "        if parents.get(cname) == None:\n",
    "            parents[cname] = []\n",
    "        if cfg.kb.functions[node.addr].get_call_return(j) != None:\n",
    "            parents[cname].append(cfg.kb.functions[node.addr].get_call_return(j))\n",
    "        #print(node.name,node.addr,node2.successors[0].name,node2.successors[0].addr)\n",
    "        if node2.successors[0].addr not in call_list and cfg.kb.functions[node.addr].get_call_return(j) != None:\n",
    "            call_list.append(node2.successors[0].addr)"
   ]
  },
  {
   "cell_type": "code",
   "execution_count": 34,
   "id": "81158106",
   "metadata": {},
   "outputs": [
    {
     "name": "stdout",
     "output_type": "stream",
     "text": [
      "socket\n",
      "write\n",
      "write\n",
      "dup\n",
      "brk\n",
      "getpid\n"
     ]
    }
   ],
   "source": [
    "adj = {}\n",
    "d = []\n",
    "nodelist = []\n",
    "nodelist.append(start_node)\n",
    "\n",
    "for i in nodelist:\n",
    "    if parents.get(i.function_address) != None and len(parents[i.function_address]) == 0:\n",
    "        continue\n",
    "    adj[i] = []\n",
    "    d.append(i)\n",
    "    succ = i.successors\n",
    "    if i.is_syscall == True:\n",
    "        print(i.name)\n",
    "        \n",
    "    if i.has_return == True and parents.get(i.function_address) != None:\n",
    "        old_succ = succ\n",
    "        succ = []\n",
    "        for k in old_succ:\n",
    "            if k.addr in parents[i.function_address]:\n",
    "                succ.append(k)\n",
    "    for j in succ:\n",
    "        if j.is_syscall == True:\n",
    "            print(j.name)\n",
    "            retaddr = cfg.functions[i.function_address].get_call_return(i.addr)\n",
    "            retnode = cfg.get_any_node(retaddr)\n",
    "            if retnode != None:\n",
    "                d.append(retnode)\n",
    "                nodelist.append(retnode)\n",
    "                if adj.get(j) == None:\n",
    "                    adj[j] = []\n",
    "                adj[j].append(retnode)\n",
    "                adj[i].append(j)\n",
    "        else:\n",
    "            if j not in d and j != None:\n",
    "                nodelist.append(j)\n",
    "                d.append(j)\n",
    "\n",
    "            if j != None:\n",
    "                adj[i].append(j)\n"
   ]
  },
  {
   "cell_type": "code",
   "execution_count": 35,
   "id": "09986da2",
   "metadata": {},
   "outputs": [
    {
     "data": {
      "text/plain": [
       "'call_graph1.gv.pdf'"
      ]
     },
     "execution_count": 35,
     "metadata": {},
     "output_type": "execute_result"
    }
   ],
   "source": [
    "dot = graphviz.Digraph(filename = 'call_graph1.gv')\n",
    "\n",
    "for key in adj:\n",
    "    for i in adj[key]:\n",
    "        keyname = key.name + \" \" + str(key.addr)\n",
    "        nodename = i.name + \" \" + str(i.addr)\n",
    "        labl = ''\n",
    "        if i.is_syscall == True:\n",
    "            labl = i.name\n",
    "        dot.edge(keyname,nodename,labl)\n",
    "\n",
    "dot.view()"
   ]
  },
  {
   "cell_type": "code",
   "execution_count": 36,
   "id": "501966b0",
   "metadata": {},
   "outputs": [],
   "source": [
    "graph = open(\"automaton\",'w')\n",
    "\n",
    "for key in adj:\n",
    "    for i in adj[key]:\n",
    "        keyname = str(key.addr) + \" \"\n",
    "        nodename = str(i.addr) + \" \"\n",
    "        labl = '-'\n",
    "        if i.is_syscall == True:\n",
    "            labl = i.name\n",
    "        labl += '\\n'\n",
    "        graph.write(keyname + nodename + labl)\n",
    "\n",
    "ret = cfg.kb.functions[start_node.function_address].ret_sites[0].addr\n",
    "ret = str(ret)\n",
    "graph.write(ret+\" 9999999\"+\" exit_group\")\n",
    "graph.close()"
   ]
  },
  {
   "cell_type": "code",
   "execution_count": 145,
   "id": "f03942b7",
   "metadata": {},
   "outputs": [
    {
     "data": {
      "text/plain": [
       "0x447290"
      ]
     },
     "execution_count": 145,
     "metadata": {},
     "output_type": "execute_result"
    }
   ],
   "source": [
    "cfg.kb.functions['__libc_write'].addr\n",
    "    "
   ]
  },
  {
   "cell_type": "code",
   "execution_count": 150,
   "id": "58a4aaf4",
   "metadata": {},
   "outputs": [
    {
     "data": {
      "text/plain": [
       "'call_graph1.gv.pdf'"
      ]
     },
     "execution_count": 150,
     "metadata": {},
     "output_type": "execute_result"
    }
   ],
   "source": [
    "dot = graphviz.Digraph(filename = 'call_graph1.gv')\n",
    "\n",
    "for key in fun_adj:\n",
    "    for i in fun_adj[key]:\n",
    "        keyname = key.name + \" \" + str(key.addr)\n",
    "        nodename = i.name + \" \" + str(i.addr)\n",
    "        labl = ''\n",
    "        if i.is_syscall == True:\n",
    "            labl = i.name\n",
    "        dot.edge(keyname,nodename,labl)\n",
    "\n",
    "dot.view()"
   ]
  },
  {
   "cell_type": "code",
   "execution_count": null,
   "id": "da82b01e",
   "metadata": {},
   "outputs": [],
   "source": []
  }
 ],
 "metadata": {
  "kernelspec": {
   "display_name": "Python 3 (ipykernel)",
   "language": "python",
   "name": "python3"
  },
  "language_info": {
   "codemirror_mode": {
    "name": "ipython",
    "version": 3
   },
   "file_extension": ".py",
   "mimetype": "text/x-python",
   "name": "python",
   "nbconvert_exporter": "python",
   "pygments_lexer": "ipython3",
   "version": "3.10.6"
  }
 },
 "nbformat": 4,
 "nbformat_minor": 5
}
